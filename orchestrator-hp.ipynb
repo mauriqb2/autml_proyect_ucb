{
  "cells": [
    {
      "cell_type": "code",
      "execution_count": null,
      "metadata": {
        "gather": {
          "logged": 1698549978124
        }
      },
      "outputs": [
        {
          "name": "stderr",
          "output_type": "stream",
          "text": [
            "Found the config file in: /config.json\n"
          ]
        }
      ],
      "source": [
        "from azure.ai.ml import MLClient\n",
        "from azure.identity import DefaultAzureCredential\n",
        "from azure.ai.ml.entities import AmlCompute\n",
        "from azure.ai.ml.entities import Environment\n",
        "from azure.ai.ml import command, Input\n",
        "from azure.ai.ml.sweep import Choice, Uniform, MedianStoppingPolicy\n",
        "from azure.identity import DefaultAzureCredential\n",
        "\n",
        "credential = DefaultAzureCredential()\n",
        "ml_client = MLClient.from_config(credential=credential)\n"
      ]
    },
    {
      "cell_type": "code",
      "execution_count": null,
      "metadata": {
        "gather": {
          "logged": 1698546719835
        },
        "jupyter": {
          "outputs_hidden": false,
          "source_hidden": false
        },
        "nteract": {
          "transient": {
            "deleting": false
          }
        }
      },
      "outputs": [],
      "source": [
        "cpu_compute_target = \"cpu-cluster\"\n",
        "try:\n",
        "    # let's see if the compute target already exists\n",
        "    cpu_cluster = ml_client.compute.get(cpu_compute_target)\n",
        "except Exception:\n",
        "    cpu_cluster = AmlCompute(\n",
        "        name=cpu_compute_target,\n",
        "        type=\"amlcompute\",\n",
        "        size=\"STANDARD_DS3_V2\",\n",
        "        min_instances=0,\n",
        "        max_instances=4,\n",
        "        idle_time_before_scale_down=180,\n",
        "        tier=\"Dedicated\",\n",
        "    )\n",
        "\n",
        "    cpu_cluster = ml_client.compute.begin_create_or_update(cpu_cluster).result()"
      ]
    },
    {
      "cell_type": "code",
      "execution_count": null,
      "metadata": {
        "gather": {
          "logged": 1698549984373
        },
        "jupyter": {
          "outputs_hidden": false,
          "source_hidden": false
        },
        "nteract": {
          "transient": {
            "deleting": false
          }
        }
      },
      "outputs": [],
      "source": [
        "env_name = 'sklearn-env'\n",
        "job_env = Environment(\n",
        "    name=env_name,\n",
        "    description=\"sklearn 0.24.2\",\n",
        "    conda_file='./env/conda.yaml',\n",
        "    image=\"mcr.microsoft.com/azureml/openmpi4.1.0-ubuntu20.04:latest\",\n",
        ")\n",
        "job_env = ml_client.environments.create_or_update(job_env)"
      ]
    },
    {
      "cell_type": "code",
      "execution_count": null,
      "metadata": {
        "gather": {
          "logged": 1698554214039
        },
        "jupyter": {
          "outputs_hidden": false,
          "source_hidden": false
        },
        "nteract": {
          "transient": {
            "deleting": false
          }
        }
      },
      "outputs": [],
      "source": [
        "job = command(\n",
        "    code=\"./src\",\n",
        "    command=\"python DecissionTree.py --dataset_path ${{inputs.dataset_path}} --min_samples_split ${{inputs.min_samples_split}} --max_depth ${{inputs.max_depth}}\",\n",
        "    environment=f\"{job_env.name}:{job_env.version}\",\n",
        "    experiment_name='co2-emissions-decission-tree-regression-model',\n",
        "    display_name=\"co2-emissions-decission-tree-regression-model\",\n",
        "    inputs={\n",
        "        \"dataset_path\": Input(\n",
        "            type=\"uri_file\",\n",
        "            path=\"azureml://subscriptions/ba1f7bf8-2be6-4bed-b818-c745bda74905/resourcegroups/primer_proyecto/workspaces/primer_proyecto/datastores/workspaceblobstore/paths/UI/2023-10-23_204742_UTC/processed_data.csv\",\n",
        "        ),\n",
        "        \"min_samples_split\": 3,\n",
        "        \"max_depth\": 5,\n",
        "    },\n",
        "    compute=cpu_compute_target,\n",
        ")\n"
      ]
    },
    {
      "cell_type": "code",
      "execution_count": null,
      "metadata": {
        "gather": {
          "logged": 1698554198827
        },
        "jupyter": {
          "outputs_hidden": false,
          "source_hidden": false
        },
        "nteract": {
          "transient": {
            "deleting": false
          }
        }
      },
      "outputs": [
        {
          "name": "stdout",
          "output_type": "stream",
          "text": [
            "RunId: honest_farm_jnbrl2yrgj\n",
            "Web View: https://ml.azure.com/runs/honest_farm_jnbrl2yrgj?wsid=/subscriptions/ba1f7bf8-2be6-4bed-b818-c745bda74905/resourcegroups/primer_proyecto/workspaces/primer_proyecto\n",
            "\n",
            "Streaming azureml-logs/hyperdrive.txt\n",
            "=====================================\n",
            "\n",
            "[2023-10-29T04:36:57.114950][GENERATOR][INFO]Trying to sample '4' jobs from the hyperparameter space\n",
            "[2023-10-29T04:36:57.5384315Z][SCHEDULER][INFO]Scheduling job, id='honest_farm_jnbrl2yrgj_0' \n",
            "[2023-10-29T04:36:57.6846120Z][SCHEDULER][INFO]Scheduling job, id='honest_farm_jnbrl2yrgj_1' \n",
            "[2023-10-29T04:36:57.7947661Z][SCHEDULER][INFO]Scheduling job, id='honest_farm_jnbrl2yrgj_2' \n",
            "[2023-10-29T04:36:57.9289769Z][SCHEDULER][INFO]Successfully scheduled a job. Id='honest_farm_jnbrl2yrgj_0' \n",
            "[2023-10-29T04:36:57.9349121Z][SCHEDULER][INFO]Scheduling job, id='honest_farm_jnbrl2yrgj_3' \n",
            "[2023-10-29T04:36:57.890319][GENERATOR][INFO]Successfully sampled '4' jobs, they will soon be submitted to the execution target.\n",
            "[2023-10-29T04:36:58.0134708Z][SCHEDULER][INFO]Successfully scheduled a job. Id='honest_farm_jnbrl2yrgj_1' \n",
            "[2023-10-29T04:36:58.1207651Z][SCHEDULER][INFO]Successfully scheduled a job. Id='honest_farm_jnbrl2yrgj_2' \n",
            "[2023-10-29T04:36:58.2041618Z][SCHEDULER][INFO]Successfully scheduled a job. Id='honest_farm_jnbrl2yrgj_3' \n"
          ]
        }
      ],
      "source": [
        "job_for_sweep = job(\n",
        "    min_samples_split=Choice(values=[3,5,7,9]),\n",
        "    max_depth=Choice(values=[3,5,7,9,11,13]),\n",
        ")\n",
        "\n",
        "sweep_job = job_for_sweep.sweep(\n",
        "    compute=cpu_compute_target,\n",
        "    sampling_algorithm=\"random\",\n",
        "    primary_metric=\"R2 Score\",\n",
        "    goal=\"Maximize\",\n",
        "    max_total_trials=12,\n",
        "    max_concurrent_trials=4,\n",
        ")\n",
        "\n",
        "returned_sweep_job = ml_client.create_or_update(sweep_job)\n",
        "ml_client.jobs.stream(returned_sweep_job.name)\n"
      ]
    },
    {
      "cell_type": "code",
      "execution_count": null,
      "metadata": {
        "gather": {
          "logged": 1698556599104
        },
        "jupyter": {
          "outputs_hidden": false,
          "source_hidden": false
        },
        "nteract": {
          "transient": {
            "deleting": false
          }
        }
      },
      "outputs": [],
      "source": [
        "job = command(\n",
        "    code=\"./src\",\n",
        "    command=\"python RandomForest.py --dataset_path ${{inputs.dataset_path}} --n_estimators ${{inputs.n_estimators}} --max_depth ${{inputs.max_depth}}\",\n",
        "    environment=f\"{job_env.name}:{job_env.version}\",\n",
        "    experiment_name='co2-emissions-random-forest-regression-model',\n",
        "    display_name=\"co2-emissions-random-forest-regression-model\",\n",
        "    inputs={\n",
        "        \"dataset_path\": Input(\n",
        "            type=\"uri_file\",\n",
        "            path=\"azureml://subscriptions/ba1f7bf8-2be6-4bed-b818-c745bda74905/resourcegroups/primer_proyecto/workspaces/primer_proyecto/datastores/workspaceblobstore/paths/UI/2023-10-23_204742_UTC/processed_data.csv\",\n",
        "        ),\n",
        "        \"n_estimators\": 100,\n",
        "        \"max_depth\": 5,\n",
        "    },\n",
        "    compute=cpu_compute_target,\n",
        ")"
      ]
    },
    {
      "cell_type": "code",
      "execution_count": null,
      "metadata": {
        "jupyter": {
          "outputs_hidden": false,
          "source_hidden": false
        },
        "nteract": {
          "transient": {
            "deleting": false
          }
        }
      },
      "outputs": [
        {
          "name": "stderr",
          "output_type": "stream",
          "text": [
            "\rUploading src (0.0 MBs):   0%|          | 0/4964 [00:00<?, ?it/s]\rUploading src (0.0 MBs): 100%|██████████| 4964/4964 [00:00<00:00, 65904.21it/s]\n",
            "\n",
            "\n"
          ]
        },
        {
          "name": "stdout",
          "output_type": "stream",
          "text": [
            "RunId: coral_sock_wg57ztmv6x\n",
            "Web View: https://ml.azure.com/runs/coral_sock_wg57ztmv6x?wsid=/subscriptions/ba1f7bf8-2be6-4bed-b818-c745bda74905/resourcegroups/primer_proyecto/workspaces/primer_proyecto\n"
          ]
        }
      ],
      "source": [
        "job_for_sweep = job(\n",
        "    n_estimators=Choice(values=[10, 50, 100, 150, 200]),\n",
        "    max_depth=Choice(values=[5, 10, 15, 20, 25, 30]),\n",
        ")\n",
        "\n",
        "sweep_job = job_for_sweep.sweep(\n",
        "    compute=cpu_compute_target,\n",
        "    sampling_algorithm=\"random\",\n",
        "    primary_metric=\"R2 Score\",\n",
        "    goal=\"Maximize\",\n",
        "    max_total_trials=12,\n",
        "    max_concurrent_trials=4,\n",
        ")\n",
        "\n",
        "returned_sweep_job = ml_client.create_or_update(sweep_job)\n",
        "ml_client.jobs.stream(returned_sweep_job.name)"
      ]
    },
    {
      "cell_type": "markdown",
      "metadata": {},
      "source": [
        "CONCLUSIONES:\n",
        "    \n",
        "    Se utilizó de prueba dos modelos: \n",
        "        \n",
        "        1)DesitionTree\n",
        "        2)RandomForest\n",
        "    \n",
        "    A los cuales se modificaron los hiperparámetros de:\n",
        "        para el:\n",
        "        \n",
        "        1) min_samples_split y max_depth. \n",
        "        \n",
        "        Y para el: \n",
        "            \n",
        "        2) n_estimators y max_depth.\n",
        "    \n",
        "    Los posibles parámetros que pueden obtener fueron:\n",
        "    \n",
        "    1) Posibles valores\n",
        "\n",
        "       min_samples_split=Choice(values=[3,5,7,9]),\n",
        "        \n",
        "        max_depth=Choice(values=[3,5,7,9,11,13]),\n",
        "        \n",
        "        Valores de R2\n",
        "        - en el original era 0.97331\n",
        "        - y en la mejora fue de 0.9961259\n",
        "    \n",
        "    2)  Posibles Valores\n",
        "        \n",
        "        n_estimators=Choice(values=[10, 50, 100, 150, 200]),\n",
        "        \n",
        "        max_depth=Choice(values=[5, 10, 15, 20, 25, 30]),\n",
        "\n",
        "        Valores de R2\n",
        "        - en el original era 0.85515\n",
        "        - y en el tuneo fue de 0.9964339\n",
        "    \n",
        "    La configuración para el job es la misma para ambos modelos:\n",
        "        \n",
        "        cpu_cluster = AmlCompute(\n",
        "        name=cpu_compute_target,\n",
        "        type=\"amlcompute\",\n",
        "        size=\"STANDARD_DS3_V2\",\n",
        "        min_instances=0,\n",
        "        max_instances=4,\n",
        "        idle_time_before_scale_down=180,\n",
        "        tier=\"Dedicated\",\n",
        "        \n",
        "    ¿Obtienes mejores o peores resultados que el modelo base?\n",
        "\n",
        "        Debido al nivel de predictibilidad en el dataset seleccionado, es mucho más probable que la mejora no sea muy significativa como es el caso de la comparación de ambos modelos."
      ]
    },
    {
      "cell_type": "markdown",
      "metadata": {},
      "source": []
    }
  ],
  "metadata": {
    "kernel_info": {
      "name": "python310-sdkv2"
    },
    "kernelspec": {
      "display_name": "Python 3.10 - SDK v2",
      "language": "python",
      "name": "python310-sdkv2"
    },
    "language_info": {
      "codemirror_mode": {
        "name": "ipython",
        "version": 3
      },
      "file_extension": ".py",
      "mimetype": "text/x-python",
      "name": "python",
      "nbconvert_exporter": "python",
      "pygments_lexer": "ipython3",
      "version": "3.10.11"
    },
    "microsoft": {
      "host": {
        "AzureML": {
          "notebookHasBeenCompleted": true
        }
      },
      "ms_spell_check": {
        "ms_spell_check_language": "en"
      }
    },
    "nteract": {
      "version": "nteract-front-end@1.0.0"
    }
  },
  "nbformat": 4,
  "nbformat_minor": 2
}
