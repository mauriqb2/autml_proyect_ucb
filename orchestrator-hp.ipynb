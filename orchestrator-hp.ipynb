{
  "cells": [
    {
      "cell_type": "code",
      "source": [
        "from azure.ai.ml import automl, Input, MLClient\n",
        "from azure.ai.ml.entities import ResourceConfiguration\n",
        "from azure.identity import DefaultAzureCredential\n",
        "from azure.ai.ml.constants import AssetTypes\n",
        "\n",
        "# Suponemos que los datos ya han sido cargados y divididos, como en el código previo.\n",
        "train_mltable_path = \"./train_data/\" \n",
        "valid_mltable_path = \"./valid_data/\" \n",
        "\n",
        "train_data_input = Input(type=AssetTypes.MLTABLE, path=train_mltable_path)\n",
        "valid_data_input = Input(type=AssetTypes.MLTABLE, path=valid_mltable_path)\n",
        "\n",
        "compute_name = \"co2-cluster\"\n",
        "experiment_name = 'automl-co2-tuning'\n",
        "\n",
        "# Configuramos el job de AutoML para regresión\n",
        "automl_job = automl.regression(\n",
        "    compute=compute_name,\n",
        "    experiment_name=experiment_name,\n",
        "    training_data=train_data_input,\n",
        "    validation_data=valid_data_input,\n",
        "    target_column_name=\"CO2 Emissions(g/km)\",\n",
        ")\n",
        "\n",
        "automl_job.set_limits(\n",
        "    timeout_minutes=30,\n",
        ")\n",
        "\n",
        "# Definir los algoritmos y hiperparámetros que queremos tunear\n",
        "automl_job.set_training(\n",
        "    allowed_training_algorithms=['LightGBM', 'ElasticNet'],\n",
        ")"
      ],
      "outputs": [],
      "execution_count": 18,
      "metadata": {
        "gather": {
          "logged": 1698109979084
        }
      }
    },
    {
      "cell_type": "code",
      "source": [
        "from azureml.train.automl import AutoMLConfig\n",
        "\n",
        "automl_config = AutoMLConfig(\n",
        "    task='regression',\n",
        "    primary_metric='normalized_root_mean_squared_error',\n",
        "    experiment_timeout_minutes=30,\n",
        "    training_data=train_dataset, # Asumiendo que ya has cargado tus datos en un objeto Dataset de Azure\n",
        "    label_column_name='target', # El nombre de tu columna objetivo\n",
        "    n_cross_validations=5,\n",
        "    enable_early_stopping=True,\n",
        "    featurization='auto',\n",
        "    model_explainability=True,\n",
        "    blocked_models=['KNN', 'LinearRegressor'], # Bloqueamos modelos que no queremos probar\n",
        "    whitelist_models=['LightGBM', 'RandomForest'], # Lista de modelos a probar\n",
        "    hyperparameter_sampling={\n",
        "        'LightGBM': {\n",
        "            'learning_rate': [0.01, 0.05, 0.1, 0.5],\n",
        "            'num_leaves': [31, 50, 100, 150]\n",
        "        },\n",
        "        'RandomForest': {\n",
        "            'n_estimators': [100, 200, 500],\n",
        "            'max_depth': [10, 20, 30, None]\n",
        "        }\n",
        "    }\n",
        ")\n"
      ],
      "outputs": [
        {
          "output_type": "error",
          "ename": "ModuleNotFoundError",
          "evalue": "No module named 'azureml.train'",
          "traceback": [
            "\u001b[0;31m---------------------------------------------------------------------------\u001b[0m",
            "\u001b[0;31mModuleNotFoundError\u001b[0m                       Traceback (most recent call last)",
            "Cell \u001b[0;32mIn[19], line 1\u001b[0m\n\u001b[0;32m----> 1\u001b[0m \u001b[38;5;28;01mfrom\u001b[39;00m \u001b[38;5;21;01mazureml\u001b[39;00m\u001b[38;5;21;01m.\u001b[39;00m\u001b[38;5;21;01mtrain\u001b[39;00m\u001b[38;5;21;01m.\u001b[39;00m\u001b[38;5;21;01mautoml\u001b[39;00m \u001b[38;5;28;01mimport\u001b[39;00m AutoMLConfig\n\u001b[1;32m      3\u001b[0m automl_config \u001b[38;5;241m=\u001b[39m AutoMLConfig(\n\u001b[1;32m      4\u001b[0m     task\u001b[38;5;241m=\u001b[39m\u001b[38;5;124m'\u001b[39m\u001b[38;5;124mregression\u001b[39m\u001b[38;5;124m'\u001b[39m,\n\u001b[1;32m      5\u001b[0m     primary_metric\u001b[38;5;241m=\u001b[39m\u001b[38;5;124m'\u001b[39m\u001b[38;5;124mnormalized_root_mean_squared_error\u001b[39m\u001b[38;5;124m'\u001b[39m,\n\u001b[0;32m   (...)\u001b[0m\n\u001b[1;32m     24\u001b[0m     }\n\u001b[1;32m     25\u001b[0m )\n",
            "\u001b[0;31mModuleNotFoundError\u001b[0m: No module named 'azureml.train'"
          ]
        }
      ],
      "execution_count": 19,
      "metadata": {
        "jupyter": {
          "source_hidden": false,
          "outputs_hidden": false
        },
        "nteract": {
          "transient": {
            "deleting": false
          }
        },
        "gather": {
          "logged": 1698110675589
        }
      }
    }
  ],
  "metadata": {
    "kernelspec": {
      "name": "python310-sdkv2",
      "language": "python",
      "display_name": "Python 3.10 - SDK v2"
    },
    "language_info": {
      "name": "python",
      "version": "3.10.11",
      "mimetype": "text/x-python",
      "codemirror_mode": {
        "name": "ipython",
        "version": 3
      },
      "pygments_lexer": "ipython3",
      "nbconvert_exporter": "python",
      "file_extension": ".py"
    },
    "microsoft": {
      "ms_spell_check": {
        "ms_spell_check_language": "en"
      },
      "host": {
        "AzureML": {
          "notebookHasBeenCompleted": true
        }
      }
    },
    "kernel_info": {
      "name": "python310-sdkv2"
    },
    "nteract": {
      "version": "nteract-front-end@1.0.0"
    }
  },
  "nbformat": 4,
  "nbformat_minor": 2
}